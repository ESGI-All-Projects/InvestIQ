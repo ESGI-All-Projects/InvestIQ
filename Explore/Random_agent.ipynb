{
 "cells": [
  {
   "metadata": {},
   "cell_type": "markdown",
   "source": "# Import necessary libraries\n",
   "id": "17361483f5aff519"
  },
  {
   "metadata": {
    "ExecuteTime": {
     "end_time": "2024-06-16T04:45:05.491298Z",
     "start_time": "2024-06-16T04:45:03.599745Z"
    }
   },
   "cell_type": "code",
   "source": [
    "import numpy as np\n",
    "import pandas as pd\n",
    "import torch\n",
    "import gym\n",
    "import time\n",
    "import datetime\n",
    "import threading\n",
    "import alpaca_trade_api as tradeapi\n",
    "import exchange_calendars as tc\n",
    "import yfinance as yf\n",
    "import matplotlib.pyplot as plt\n",
    "import matplotlib.ticker as ticker\n",
    "from finrl.config_tickers import DOW_30_TICKER\n",
    "from finrl.config import INDICATORS\n",
    "from finrl.meta.data_processor import DataProcessor\n",
    "from finrl.meta.env_stock_trading.env_stocktrading_np import StockTradingEnv\n",
    "from finrl.plot import backtest_stats, backtest_plot, get_daily_return, get_baseline\n",
    "\n",
    "# Function to read the keys from keys.txt\n",
    "def load_keys(file_path):\n",
    "    with open(file_path, 'r') as file:\n",
    "        lines = file.readlines()\n",
    "        keys = {}\n",
    "        for line in lines:\n",
    "            if ':' in line:\n",
    "                key, value = line.strip().split(':', 1)\n",
    "                keys[key.strip()] = value.strip()\n",
    "        return keys\n",
    "\n",
    "# Load the keys from keys.txt\n",
    "keys = load_keys('../keys.txt')\n",
    "\n",
    "# Extract the API key and API secret\n",
    "API_KEY = keys.get('keypub')\n",
    "API_SECRET = keys.get('key_sec')\n",
    "\n",
    "API_BASE_URL = 'https://paper-api.alpaca.markets'\n"
   ],
   "id": "3735c4ec9a55ddad",
   "outputs": [
    {
     "name": "stderr",
     "output_type": "stream",
     "text": [
      "/home/duincan/miniconda3/envs/invest/lib/python3.10/site-packages/pyfolio/pos.py:26: UserWarning: Module \"zipline.assets\" not found; mutltipliers will not be applied to position notionals.\n",
      "  warnings.warn(\n"
     ]
    }
   ],
   "execution_count": 1
  },
  {
   "metadata": {
    "ExecuteTime": {
     "end_time": "2024-06-16T04:45:05.494351Z",
     "start_time": "2024-06-16T04:45:05.492212Z"
    }
   },
   "cell_type": "code",
   "source": "# Define a random agent\n",
   "id": "28a89ed2f9b3c75",
   "outputs": [],
   "execution_count": 2
  },
  {
   "metadata": {
    "ExecuteTime": {
     "end_time": "2024-06-16T04:45:05.504606Z",
     "start_time": "2024-06-16T04:45:05.495402Z"
    }
   },
   "cell_type": "code",
   "source": [
    "class RandomAgent:\n",
    "    def __init__(self, action_dim):\n",
    "        self.action_dim = action_dim\n",
    "\n",
    "    def get_action(self, state):\n",
    "        return np.random.uniform(low=-1, high=1, size=self.action_dim)\n"
   ],
   "id": "9169d8c239770652",
   "outputs": [],
   "execution_count": 3
  },
  {
   "metadata": {
    "ExecuteTime": {
     "end_time": "2024-06-16T04:45:05.507977Z",
     "start_time": "2024-06-16T04:45:05.506160Z"
    }
   },
   "cell_type": "code",
   "source": "# Calculate state dimension and other necessary variables\n",
   "id": "e37cfb59221a2640",
   "outputs": [],
   "execution_count": 4
  },
  {
   "metadata": {
    "ExecuteTime": {
     "end_time": "2024-06-16T04:45:05.511043Z",
     "start_time": "2024-06-16T04:45:05.508772Z"
    }
   },
   "cell_type": "code",
   "source": [
    "ticker_list = DOW_30_TICKER\n",
    "action_dim = len(ticker_list)\n",
    "# Calculate the state dimension based on the environment specifications\n",
    "state_dim = 1 + 2 + 3 * action_dim + len(INDICATORS) * action_dim\n",
    "\n",
    "# Print the state dimension\n",
    "print(\"State Dimension:\", state_dim)\n"
   ],
   "id": "584dfa5e04bd4822",
   "outputs": [
    {
     "name": "stdout",
     "output_type": "stream",
     "text": [
      "State Dimension: 333\n"
     ]
    }
   ],
   "execution_count": 5
  },
  {
   "metadata": {
    "ExecuteTime": {
     "end_time": "2024-06-16T04:45:05.513293Z",
     "start_time": "2024-06-16T04:45:05.511715Z"
    }
   },
   "cell_type": "code",
   "source": "# Modify the AlpacaPaperTrading class to use the random agent\n",
   "id": "f2481e774051ae99",
   "outputs": [],
   "execution_count": 6
  },
  {
   "metadata": {
    "ExecuteTime": {
     "end_time": "2024-06-16T04:45:05.527357Z",
     "start_time": "2024-06-16T04:45:05.514035Z"
    }
   },
   "cell_type": "code",
   "source": [
    "class AlpacaPaperTrading():\n",
    "    def __init__(self, ticker_list, time_interval, agent, cwd, net_dim, state_dim, action_dim, API_KEY, API_SECRET, API_BASE_URL, tech_indicator_list, turbulence_thresh=30, max_stock=1e2, latency=None):\n",
    "        # Load agent\n",
    "        self.agent = agent\n",
    "\n",
    "        # Connect to Alpaca trading API\n",
    "        try:\n",
    "            self.alpaca = tradeapi.REST(API_KEY, API_SECRET, API_BASE_URL, 'v2')\n",
    "        except:\n",
    "            raise ValueError('Fail to connect Alpaca. Please check account info and internet connection.')\n",
    "\n",
    "        # Read trading time interval\n",
    "        self.time_interval = self._parse_time_interval(time_interval)\n",
    "\n",
    "        # Read trading settings\n",
    "        self.tech_indicator_list = tech_indicator_list\n",
    "        self.turbulence_thresh = turbulence_thresh\n",
    "        self.max_stock = max_stock\n",
    "\n",
    "        # Initialize account\n",
    "        self.stocks = np.asarray([0] * len(ticker_list))  # stocks holding\n",
    "        self.stocks_cd = np.zeros_like(self.stocks)\n",
    "        self.cash = None  # cash record\n",
    "        self.stocks_df = pd.DataFrame(self.stocks, columns=['stocks'], index=ticker_list)\n",
    "        self.asset_list = []\n",
    "        self.price = np.asarray([0] * len(ticker_list))\n",
    "        self.stockUniverse = ticker_list\n",
    "        self.turbulence_bool = 0\n",
    "        self.equities = []\n",
    "\n",
    "    def _parse_time_interval(self, time_interval):\n",
    "        if time_interval == '1s':\n",
    "            return 1\n",
    "        elif time_interval == '5s':\n",
    "            return 5\n",
    "        elif time_interval == '1Min':\n",
    "            return 60\n",
    "        elif time_interval == '5Min':\n",
    "            return 60 * 5\n",
    "        elif time_interval == '15Min':\n",
    "            return 60 * 15\n",
    "        else:\n",
    "            raise ValueError('Time interval input is NOT supported yet.')\n",
    "\n",
    "    def test_latency(self, test_times=10):\n",
    "        total_time = 0\n",
    "        for i in range(0, test_times):\n",
    "            time0 = time.time()\n",
    "            self.get_state()\n",
    "            time1 = time.time()\n",
    "            temp_time = time1 - time0\n",
    "            total_time += temp_time\n",
    "        latency = total_time / test_times\n",
    "        print('latency for data processing: ', latency)\n",
    "        return latency\n",
    "\n",
    "    def run(self):\n",
    "        orders = self.alpaca.list_orders(status=\"open\")\n",
    "        for order in orders:\n",
    "            self.alpaca.cancel_order(order.id)\n",
    "\n",
    "        # Wait for market to open.\n",
    "        print(\"Waiting for market to open...\")\n",
    "        self.awaitMarketOpen()\n",
    "        print(\"Market opened.\")\n",
    "\n",
    "        while True:\n",
    "            clock = self.alpaca.get_clock()\n",
    "            closingTime = clock.next_close.replace(tzinfo=datetime.timezone.utc).timestamp()\n",
    "            currTime = clock.timestamp.replace(tzinfo=datetime.timezone.utc).timestamp()\n",
    "            self.timeToClose = closingTime - currTime\n",
    "\n",
    "            if self.timeToClose < (60):\n",
    "                print(\"Market closing soon. Stop trading.\")\n",
    "                break\n",
    "\n",
    "            else:\n",
    "                self.trade()\n",
    "                last_equity = float(self.alpaca.get_account().last_equity)\n",
    "                cur_time = time.time()\n",
    "                self.equities.append([cur_time, last_equity])\n",
    "                time.sleep(self.time_interval)\n",
    "\n",
    "    def awaitMarketOpen(self):\n",
    "        isOpen = self.alpaca.get_clock().is_open\n",
    "        while not isOpen:\n",
    "            clock = self.alpaca.get_clock()\n",
    "            openingTime = clock.next_open.replace(tzinfo=datetime.timezone.utc).timestamp()\n",
    "            currTime = clock.timestamp.replace(tzinfo=datetime.timezone.utc).timestamp()\n",
    "            timeToOpen = int((openingTime - currTime) / 60)\n",
    "            print(str(timeToOpen) + \" minutes til market open.\")\n",
    "            time.sleep(60)\n",
    "            isOpen = self.alpaca.get_clock().is_open\n",
    "\n",
    "    def trade(self):\n",
    "        state = self.get_state()\n",
    "        action = self.agent.get_action(state)\n",
    "        action = (action * self.max_stock).astype(int)\n",
    "\n",
    "        self.stocks_cd += 1\n",
    "        if self.turbulence_bool == 0:\n",
    "            min_action = 10  # stock_cd\n",
    "            threads = []\n",
    "            for index in np.where(action < -min_action)[0]:  # sell_index:\n",
    "                sell_num_shares = min(self.stocks[index], -action[index])\n",
    "                qty = abs(int(sell_num_shares))\n",
    "                respSO = []\n",
    "                tSubmitOrder = threading.Thread(target=self.submitOrder(qty, self.stockUniverse[index], 'sell', respSO))\n",
    "                tSubmitOrder.start()\n",
    "                threads.append(tSubmitOrder)\n",
    "                self.cash = float(self.alpaca.get_account().cash)\n",
    "                self.stocks_cd[index] = 0\n",
    "\n",
    "            for x in threads:  # wait for all threads to complete\n",
    "                x.join()\n",
    "\n",
    "            threads = []\n",
    "            for index in np.where(action > min_action)[0]:  # buy_index:\n",
    "                if self.cash < 0:\n",
    "                    tmp_cash = 0\n",
    "                else:\n",
    "                    tmp_cash = self.cash\n",
    "                buy_num_shares = min(tmp_cash // self.price[index], abs(int(action[index])))\n",
    "                if np.isnan(buy_num_shares):  # if buy_num_change = nan\n",
    "                    qty = 0  # set to 0 quantity\n",
    "                else:\n",
    "                    qty = abs(int(buy_num_shares))\n",
    "                respSO = []\n",
    "                tSubmitOrder = threading.Thread(target=self.submitOrder(qty, self.stockUniverse[index], 'buy', respSO))\n",
    "                tSubmitOrder.start()\n",
    "                threads.append(tSubmitOrder)\n",
    "                self.cash = float(self.alpaca.get_account().cash)\n",
    "                self.stocks_cd[index] = 0\n",
    "\n",
    "            for x in threads:  # wait for all threads to complete\n",
    "                x.join()\n",
    "\n",
    "        else:  # sell all when turbulence\n",
    "            threads = []\n",
    "            positions = self.alpaca.list_positions()\n",
    "            for position in positions:\n",
    "                if position.side == 'long':\n",
    "                    orderSide = 'sell'\n",
    "                else:\n",
    "                    orderSide = 'buy'\n",
    "                qty = abs(int(float(position.qty)))\n",
    "                respSO = []\n",
    "                tSubmitOrder = threading.Thread(target=self.submitOrder(qty, position.symbol, orderSide, respSO))\n",
    "                tSubmitOrder.start()\n",
    "                threads.append(tSubmitOrder)\n",
    "\n",
    "            for x in threads:  # wait for all threads to complete\n",
    "                x.join()\n",
    "\n",
    "            self.stocks_cd[:] = 0\n",
    "\n",
    "    def get_state(self):\n",
    "        alpaca = AlpacaProcessor(api=self.alpaca)\n",
    "        price, tech, turbulence = alpaca.fetch_latest_data(ticker_list=self.stockUniverse, time_interval='1Min', tech_indicator_list=self.tech_indicator_list)\n",
    "        turbulence_bool = 1 if turbulence >= self.turbulence_thresh else 0\n",
    "\n",
    "        turbulence = (self.sigmoid_sign(turbulence, self.turbulence_thresh) * 2 ** -5).astype(np.float32)\n",
    "        tech = tech * 2 ** -7\n",
    "        positions = self.alpaca.list_positions()\n",
    "        stocks = [0] * len(self.stockUniverse)\n",
    "        for position in positions:\n",
    "            ind = self.stockUniverse.index(position.symbol)\n",
    "            stocks[ind] = abs(int(float(position.qty)))\n",
    "\n",
    "        stocks = np.asarray(stocks, dtype=float)\n",
    "        cash = float(self.alpaca.get_account().cash)\n",
    "        self.cash = cash\n",
    "        self.stocks = stocks\n",
    "        self.turbulence_bool = turbulence_bool\n",
    "        self.price = price\n",
    "\n",
    "        amount = np.array(self.cash * (2 ** -12), dtype=np.float32)\n",
    "        scale = np.array(2 ** -6, dtype=np.float32)\n",
    "        state = np.hstack((amount, turbulence, self.turbulence_bool, price * scale, self.stocks * scale, self.stocks_cd, tech)).astype(np.float32)\n",
    "        state[np.isnan(state)] = 0.0\n",
    "        state[np.isinf(state)] = 0.0\n",
    "        return state\n",
    "\n",
    "    def submitOrder(self, qty, stock, side, resp):\n",
    "        if qty > 0:\n",
    "            try:\n",
    "                self.alpaca.submit_order(stock, qty, side, \"market\", \"day\")\n",
    "                print(\"Market order of | \" + str(qty) + \" \" + stock + \" \" + side + \" | completed.\")\n",
    "                resp.append(True)\n",
    "            except:\n",
    "                print(\"Order of | \" + str(qty) + \" \" + stock + \" \" + side + \" | did not go through.\")\n",
    "                resp.append(False)\n",
    "        else:\n",
    "            print(\"Quantity is 0, order of | \" + str(qty) + \" \" + stock + \" \" + side + \" | not completed.\")\n",
    "            resp.append(True)\n",
    "\n",
    "    @staticmethod\n",
    "    def sigmoid_sign(ary, thresh):\n",
    "        def sigmoid(x):\n",
    "            return 1 / (1 + np.exp(-x * np.e)) - 0.5\n",
    "\n",
    "        return sigmoid(ary / thresh) * thresh\n"
   ],
   "id": "f08ce4f8f2ee7ce1",
   "outputs": [],
   "execution_count": 7
  },
  {
   "metadata": {
    "ExecuteTime": {
     "end_time": "2024-06-16T04:45:05.530789Z",
     "start_time": "2024-06-16T04:45:05.527945Z"
    }
   },
   "cell_type": "code",
   "source": "# Initialize the random agent\n",
   "id": "543827fa1ed3114d",
   "outputs": [],
   "execution_count": 8
  },
  {
   "metadata": {
    "ExecuteTime": {
     "end_time": "2024-06-16T04:45:05.533549Z",
     "start_time": "2024-06-16T04:45:05.531560Z"
    }
   },
   "cell_type": "code",
   "source": "random_agent = RandomAgent(action_dim=len(DOW_30_TICKER))\n",
   "id": "788fe62ae33d7e90",
   "outputs": [],
   "execution_count": 9
  },
  {
   "metadata": {
    "ExecuteTime": {
     "end_time": "2024-06-16T04:45:05.536152Z",
     "start_time": "2024-06-16T04:45:05.534515Z"
    }
   },
   "cell_type": "code",
   "source": "# Run the paper trading with the random agent\n",
   "id": "154bb8d6f71d6155",
   "outputs": [],
   "execution_count": 10
  },
  {
   "metadata": {
    "ExecuteTime": {
     "end_time": "2024-06-16T04:45:22.239707Z",
     "start_time": "2024-06-16T04:45:05.537302Z"
    }
   },
   "cell_type": "code",
   "source": [
    "paper_trading_random = AlpacaPaperTrading(\n",
    "    ticker_list=DOW_30_TICKER,\n",
    "    time_interval='1Min',\n",
    "    agent=random_agent,\n",
    "    cwd=None,\n",
    "    net_dim=None,\n",
    "    state_dim=state_dim,\n",
    "    action_dim=action_dim,\n",
    "    API_KEY=API_KEY,\n",
    "    API_SECRET=API_SECRET,\n",
    "    API_BASE_URL=API_BASE_URL,\n",
    "    tech_indicator_list=INDICATORS,\n",
    "    turbulence_thresh=30,\n",
    "    max_stock=1e2\n",
    ")\n",
    "paper_trading_random.run()\n"
   ],
   "id": "f000a59faca926f",
   "outputs": [
    {
     "name": "stdout",
     "output_type": "stream",
     "text": [
      "Waiting for market to open...\n",
      "1964 minutes til market open.\n"
     ]
    },
    {
     "ename": "KeyboardInterrupt",
     "evalue": "",
     "output_type": "error",
     "traceback": [
      "\u001B[0;31m---------------------------------------------------------------------------\u001B[0m",
      "\u001B[0;31mKeyboardInterrupt\u001B[0m                         Traceback (most recent call last)",
      "Cell \u001B[0;32mIn[11], line 16\u001B[0m\n\u001B[1;32m      1\u001B[0m paper_trading_random \u001B[38;5;241m=\u001B[39m AlpacaPaperTrading(\n\u001B[1;32m      2\u001B[0m     ticker_list\u001B[38;5;241m=\u001B[39mDOW_30_TICKER,\n\u001B[1;32m      3\u001B[0m     time_interval\u001B[38;5;241m=\u001B[39m\u001B[38;5;124m'\u001B[39m\u001B[38;5;124m1Min\u001B[39m\u001B[38;5;124m'\u001B[39m,\n\u001B[0;32m   (...)\u001B[0m\n\u001B[1;32m     14\u001B[0m     max_stock\u001B[38;5;241m=\u001B[39m\u001B[38;5;241m1e2\u001B[39m\n\u001B[1;32m     15\u001B[0m )\n\u001B[0;32m---> 16\u001B[0m \u001B[43mpaper_trading_random\u001B[49m\u001B[38;5;241;43m.\u001B[39;49m\u001B[43mrun\u001B[49m\u001B[43m(\u001B[49m\u001B[43m)\u001B[49m\n",
      "Cell \u001B[0;32mIn[7], line 64\u001B[0m, in \u001B[0;36mAlpacaPaperTrading.run\u001B[0;34m(self)\u001B[0m\n\u001B[1;32m     62\u001B[0m \u001B[38;5;66;03m# Wait for market to open.\u001B[39;00m\n\u001B[1;32m     63\u001B[0m \u001B[38;5;28mprint\u001B[39m(\u001B[38;5;124m\"\u001B[39m\u001B[38;5;124mWaiting for market to open...\u001B[39m\u001B[38;5;124m\"\u001B[39m)\n\u001B[0;32m---> 64\u001B[0m \u001B[38;5;28;43mself\u001B[39;49m\u001B[38;5;241;43m.\u001B[39;49m\u001B[43mawaitMarketOpen\u001B[49m\u001B[43m(\u001B[49m\u001B[43m)\u001B[49m\n\u001B[1;32m     65\u001B[0m \u001B[38;5;28mprint\u001B[39m(\u001B[38;5;124m\"\u001B[39m\u001B[38;5;124mMarket opened.\u001B[39m\u001B[38;5;124m\"\u001B[39m)\n\u001B[1;32m     67\u001B[0m \u001B[38;5;28;01mwhile\u001B[39;00m \u001B[38;5;28;01mTrue\u001B[39;00m:\n",
      "Cell \u001B[0;32mIn[7], line 92\u001B[0m, in \u001B[0;36mAlpacaPaperTrading.awaitMarketOpen\u001B[0;34m(self)\u001B[0m\n\u001B[1;32m     90\u001B[0m timeToOpen \u001B[38;5;241m=\u001B[39m \u001B[38;5;28mint\u001B[39m((openingTime \u001B[38;5;241m-\u001B[39m currTime) \u001B[38;5;241m/\u001B[39m \u001B[38;5;241m60\u001B[39m)\n\u001B[1;32m     91\u001B[0m \u001B[38;5;28mprint\u001B[39m(\u001B[38;5;28mstr\u001B[39m(timeToOpen) \u001B[38;5;241m+\u001B[39m \u001B[38;5;124m\"\u001B[39m\u001B[38;5;124m minutes til market open.\u001B[39m\u001B[38;5;124m\"\u001B[39m)\n\u001B[0;32m---> 92\u001B[0m \u001B[43mtime\u001B[49m\u001B[38;5;241;43m.\u001B[39;49m\u001B[43msleep\u001B[49m\u001B[43m(\u001B[49m\u001B[38;5;241;43m60\u001B[39;49m\u001B[43m)\u001B[49m\n\u001B[1;32m     93\u001B[0m isOpen \u001B[38;5;241m=\u001B[39m \u001B[38;5;28mself\u001B[39m\u001B[38;5;241m.\u001B[39malpaca\u001B[38;5;241m.\u001B[39mget_clock()\u001B[38;5;241m.\u001B[39mis_open\n",
      "\u001B[0;31mKeyboardInterrupt\u001B[0m: "
     ]
    }
   ],
   "execution_count": 11
  },
  {
   "metadata": {},
   "cell_type": "code",
   "source": "# Plot and compare the performance of the random agent\n",
   "id": "40cff51a2f7617d",
   "outputs": [],
   "execution_count": null
  },
  {
   "metadata": {},
   "cell_type": "code",
   "source": [
    "def get_trading_days(start, end):\n",
    "    nyse = tc.get_calendar('NYSE')\n",
    "    df = nyse.sessions_in_range(pd.Timestamp(start), pd.Timestamp(end))\n",
    "    trading_days = []\n",
    "    for day in df:\n",
    "        trading_days.append(str(day)[:10])\n",
    "    return trading_days\n",
    "\n",
    "def alpaca_history(key, secret, url, start, end):\n",
    "    api = tradeapi.REST(key, secret, url, 'v2')\n",
    "    trading_days = get_trading_days(start, end)\n",
    "    df = pd.DataFrame()\n",
    "    for day in trading_days:\n",
    "        df = pd.concat([df, api.get_portfolio_history(date_start=day, timeframe='5Min').df.iloc[:78]], ignore_index=True)\n",
    "    equities = df.equity.values\n",
    "    cumu_returns = equities / equities[0]\n",
    "    cumu_returns = cumu_returns[~np.isnan(cumu_returns)]\n",
    "    return df, cumu_returns\n",
    "\n",
    "def DIA_history(start):\n",
    "    data_df = yf.download(['^DJI'], start=start, interval=\"5m\")\n",
    "    data_df = data_df.iloc[:]\n",
    "    baseline_returns = data_df['Adj Close'].values / data_df['Adj Close'].values[0]\n",
    "    return data_df, baseline_returns\n",
    "\n",
    "df_random, cumu_random = alpaca_history(key=API_KEY, secret=API_SECRET, url=API_BASE_URL, start='2022-09-01', end='2022-09-12')\n",
    "df_djia, cumu_djia = DIA_history(start='2022-09-01')\n",
    "\n",
    "returns_random = cumu_random - 1\n",
    "returns_dia = cumu_djia - 1\n",
    "returns_dia = returns_dia[:returns_random.shape[0]]\n",
    "\n",
    "plt.figure(dpi=1000)\n",
    "plt.grid()\n",
    "plt.grid(which='minor', axis='y')\n",
    "plt.title('Stock Trading (Paper trading)', fontsize=20)\n",
    "plt.plot(returns_random, label='Random Agent', color='red')\n",
    "plt.plot(returns_dia, label='DJIA', color='grey')\n",
    "plt.ylabel('Return', fontsize=16)\n",
    "plt.xlabel('Year 2021', fontsize=16)\n",
    "plt.xticks(size=14)\n",
    "plt.yticks(size=14)\n",
    "ax = plt.gca()\n",
    "ax.xaxis.set_major_locator(ticker.MultipleLocator(78))\n",
    "ax.xaxis.set_minor_locator(ticker.MultipleLocator(6))\n",
    "ax.yaxis.set_minor_locator(ticker.MultipleLocator(0.005))\n",
    "ax.yaxis.set_major_formatter(ticker.PercentFormatter(xmax=1, decimals=2))\n",
    "ax.xaxis.set_major_formatter(ticker.FixedFormatter(['', '10-19', '', '10-20', '', '10-21', '', '10-22']))\n",
    "plt.legend(fontsize=10.5)\n",
    "plt.savefig('papertrading_stock_random.png')\n"
   ],
   "id": "d7f3f18f129699c9",
   "outputs": [],
   "execution_count": null
  }
 ],
 "metadata": {
  "kernelspec": {
   "display_name": "Python 3",
   "language": "python",
   "name": "python3"
  },
  "language_info": {
   "codemirror_mode": {
    "name": "ipython",
    "version": 2
   },
   "file_extension": ".py",
   "mimetype": "text/x-python",
   "name": "python",
   "nbconvert_exporter": "python",
   "pygments_lexer": "ipython2",
   "version": "2.7.6"
  }
 },
 "nbformat": 4,
 "nbformat_minor": 5
}
