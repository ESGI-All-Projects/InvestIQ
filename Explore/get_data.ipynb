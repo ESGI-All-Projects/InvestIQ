{
 "cells": [
  {
   "cell_type": "code",
   "execution_count": 39,
   "id": "initial_id",
   "metadata": {
    "collapsed": true,
    "ExecuteTime": {
     "end_time": "2024-05-26T21:18:23.890707763Z",
     "start_time": "2024-05-26T21:18:23.845590115Z"
    }
   },
   "outputs": [],
   "source": [
    "from alpaca.data.historical import CryptoHistoricalDataClient\n",
    "\n",
    "\n",
    "# No keys required for crypto data\n",
    "client = CryptoHistoricalDataClient()"
   ]
  },
  {
   "cell_type": "code",
   "execution_count": 40,
   "outputs": [],
   "source": [
    "from alpaca.data.requests import CryptoBarsRequest\n",
    "from alpaca.data.timeframe import TimeFrame\n",
    "from enum import Enum\n",
    "\n",
    "\n",
    "class TimeFrameUnit(Enum):\n",
    "    Minute = \"Min\"\n",
    "    Hour = \"Hour\"\n",
    "    Day = \"Day\"\n",
    "    Week = \"Week\"\n",
    "    Month = \"Month\"\n",
    "\n",
    "timeframe_10min = TimeFrame(amount=10, unit=TimeFrameUnit.Minute)\n",
    "\n",
    "\n",
    "\n",
    "# Creating request object\n",
    "request_params = CryptoBarsRequest(\n",
    "  symbol_or_symbols=[\"BTC/USD\"],\n",
    "  timeframe=timeframe_10min,\n",
    "  start=\"2018-05-25\",\n",
    "  end=\"2024-05-26\"\n",
    ")"
   ],
   "metadata": {
    "collapsed": false,
    "ExecuteTime": {
     "end_time": "2024-05-26T21:18:31.651428762Z",
     "start_time": "2024-05-26T21:18:31.649866319Z"
    }
   },
   "id": "fcb54161997152e2"
  },
  {
   "cell_type": "code",
   "execution_count": 31,
   "outputs": [
    {
     "data": {
      "text/plain": "                                         open        high         low  \\\nsymbol  timestamp                                                       \nBTC/USD 2021-01-01 06:00:00+00:00  29255.7100  29338.2500  29237.4500   \n        2021-01-01 06:10:00+00:00  29280.2100  29315.6300  29210.0500   \n        2021-01-01 06:20:00+00:00  29212.8200  29285.0500  29173.7600   \n        2021-01-01 06:30:00+00:00  29175.7700  29238.8000  29153.5500   \n        2021-01-01 06:40:00+00:00  29224.1300  29287.4100  29212.9200   \n...                                       ...         ...         ...   \n        2024-05-25 23:20:00+00:00  69318.5600  69330.1400  69318.5600   \n        2024-05-25 23:30:00+00:00  69330.1005  69330.1005  69274.8550   \n        2024-05-25 23:40:00+00:00  69216.2340  69247.5450  69216.2340   \n        2024-05-25 23:50:00+00:00  69255.2835  69291.3885  69255.2835   \n        2024-05-26 00:00:00+00:00  69244.1030  69244.1030  69244.1030   \n\n                                        close     volume  trade_count  \\\nsymbol  timestamp                                                       \nBTC/USD 2021-01-01 06:00:00+00:00  29300.0000   5.121630        251.0   \n        2021-01-01 06:10:00+00:00  29212.1600   5.985020        213.0   \n        2021-01-01 06:20:00+00:00  29192.6100   7.079464        244.0   \n        2021-01-01 06:30:00+00:00  29224.1200  11.705320        221.0   \n        2021-01-01 06:40:00+00:00  29235.6500   5.750293        122.0   \n...                                       ...        ...          ...   \n        2024-05-25 23:20:00+00:00  69330.1400   0.000000          0.0   \n        2024-05-25 23:30:00+00:00  69296.0200   0.000000          0.0   \n        2024-05-25 23:40:00+00:00  69247.5450   0.000015          1.0   \n        2024-05-25 23:50:00+00:00  69291.3885   0.000000          0.0   \n        2024-05-26 00:00:00+00:00  69244.1030   0.000000          0.0   \n\n                                           vwap  \nsymbol  timestamp                                \nBTC/USD 2021-01-01 06:00:00+00:00  29294.514194  \n        2021-01-01 06:10:00+00:00  29284.921053  \n        2021-01-01 06:20:00+00:00  29210.504490  \n        2021-01-01 06:30:00+00:00  29214.144326  \n        2021-01-01 06:40:00+00:00  29249.214998  \n...                                         ...  \n        2024-05-25 23:20:00+00:00      0.000000  \n        2024-05-25 23:30:00+00:00      0.000000  \n        2024-05-25 23:40:00+00:00  69216.234000  \n        2024-05-25 23:50:00+00:00      0.000000  \n        2024-05-26 00:00:00+00:00      0.000000  \n\n[178438 rows x 7 columns]",
      "text/html": "<div>\n<style scoped>\n    .dataframe tbody tr th:only-of-type {\n        vertical-align: middle;\n    }\n\n    .dataframe tbody tr th {\n        vertical-align: top;\n    }\n\n    .dataframe thead th {\n        text-align: right;\n    }\n</style>\n<table border=\"1\" class=\"dataframe\">\n  <thead>\n    <tr style=\"text-align: right;\">\n      <th></th>\n      <th></th>\n      <th>open</th>\n      <th>high</th>\n      <th>low</th>\n      <th>close</th>\n      <th>volume</th>\n      <th>trade_count</th>\n      <th>vwap</th>\n    </tr>\n    <tr>\n      <th>symbol</th>\n      <th>timestamp</th>\n      <th></th>\n      <th></th>\n      <th></th>\n      <th></th>\n      <th></th>\n      <th></th>\n      <th></th>\n    </tr>\n  </thead>\n  <tbody>\n    <tr>\n      <th rowspan=\"11\" valign=\"top\">BTC/USD</th>\n      <th>2021-01-01 06:00:00+00:00</th>\n      <td>29255.7100</td>\n      <td>29338.2500</td>\n      <td>29237.4500</td>\n      <td>29300.0000</td>\n      <td>5.121630</td>\n      <td>251.0</td>\n      <td>29294.514194</td>\n    </tr>\n    <tr>\n      <th>2021-01-01 06:10:00+00:00</th>\n      <td>29280.2100</td>\n      <td>29315.6300</td>\n      <td>29210.0500</td>\n      <td>29212.1600</td>\n      <td>5.985020</td>\n      <td>213.0</td>\n      <td>29284.921053</td>\n    </tr>\n    <tr>\n      <th>2021-01-01 06:20:00+00:00</th>\n      <td>29212.8200</td>\n      <td>29285.0500</td>\n      <td>29173.7600</td>\n      <td>29192.6100</td>\n      <td>7.079464</td>\n      <td>244.0</td>\n      <td>29210.504490</td>\n    </tr>\n    <tr>\n      <th>2021-01-01 06:30:00+00:00</th>\n      <td>29175.7700</td>\n      <td>29238.8000</td>\n      <td>29153.5500</td>\n      <td>29224.1200</td>\n      <td>11.705320</td>\n      <td>221.0</td>\n      <td>29214.144326</td>\n    </tr>\n    <tr>\n      <th>2021-01-01 06:40:00+00:00</th>\n      <td>29224.1300</td>\n      <td>29287.4100</td>\n      <td>29212.9200</td>\n      <td>29235.6500</td>\n      <td>5.750293</td>\n      <td>122.0</td>\n      <td>29249.214998</td>\n    </tr>\n    <tr>\n      <th>...</th>\n      <td>...</td>\n      <td>...</td>\n      <td>...</td>\n      <td>...</td>\n      <td>...</td>\n      <td>...</td>\n      <td>...</td>\n    </tr>\n    <tr>\n      <th>2024-05-25 23:20:00+00:00</th>\n      <td>69318.5600</td>\n      <td>69330.1400</td>\n      <td>69318.5600</td>\n      <td>69330.1400</td>\n      <td>0.000000</td>\n      <td>0.0</td>\n      <td>0.000000</td>\n    </tr>\n    <tr>\n      <th>2024-05-25 23:30:00+00:00</th>\n      <td>69330.1005</td>\n      <td>69330.1005</td>\n      <td>69274.8550</td>\n      <td>69296.0200</td>\n      <td>0.000000</td>\n      <td>0.0</td>\n      <td>0.000000</td>\n    </tr>\n    <tr>\n      <th>2024-05-25 23:40:00+00:00</th>\n      <td>69216.2340</td>\n      <td>69247.5450</td>\n      <td>69216.2340</td>\n      <td>69247.5450</td>\n      <td>0.000015</td>\n      <td>1.0</td>\n      <td>69216.234000</td>\n    </tr>\n    <tr>\n      <th>2024-05-25 23:50:00+00:00</th>\n      <td>69255.2835</td>\n      <td>69291.3885</td>\n      <td>69255.2835</td>\n      <td>69291.3885</td>\n      <td>0.000000</td>\n      <td>0.0</td>\n      <td>0.000000</td>\n    </tr>\n    <tr>\n      <th>2024-05-26 00:00:00+00:00</th>\n      <td>69244.1030</td>\n      <td>69244.1030</td>\n      <td>69244.1030</td>\n      <td>69244.1030</td>\n      <td>0.000000</td>\n      <td>0.0</td>\n      <td>0.000000</td>\n    </tr>\n  </tbody>\n</table>\n<p>178438 rows × 7 columns</p>\n</div>"
     },
     "execution_count": 31,
     "metadata": {},
     "output_type": "execute_result"
    }
   ],
   "source": [
    "# Retrieve daily bars for Bitcoin in a DataFrame and printing it\n",
    "btc_bars = client.get_crypto_bars(request_params)\n",
    "\n",
    "# Convert to dataframe\n",
    "btc_bars.df\n",
    "\n"
   ],
   "metadata": {
    "collapsed": false,
    "ExecuteTime": {
     "end_time": "2024-05-26T14:04:32.786124779Z",
     "start_time": "2024-05-26T14:04:02.927402459Z"
    }
   },
   "id": "9b91f702da05e661"
  },
  {
   "cell_type": "code",
   "execution_count": 37,
   "outputs": [],
   "source": [
    "df_btc_bars = btc_bars.df\n",
    "\n",
    "df_btc_bars.to_csv(\"../src/data/btc_bars.csv\")"
   ],
   "metadata": {
    "collapsed": false,
    "ExecuteTime": {
     "end_time": "2024-05-26T14:32:57.113492315Z",
     "start_time": "2024-05-26T14:32:47.341807452Z"
    }
   },
   "id": "1fecb706db23b8e3"
  },
  {
   "cell_type": "code",
   "execution_count": 33,
   "outputs": [
    {
     "data": {
      "text/plain": "                                        open       high        low      close  \\\nsymbol  timestamp                                                               \nETH/USD 2021-01-01 06:00:00+00:00   742.1500   744.6100   742.1500   743.5000   \n        2021-01-01 06:10:00+00:00   743.6900   743.9100   742.0000   742.0000   \n        2021-01-01 06:20:00+00:00   742.2800   742.2800   738.1600   739.2500   \n        2021-01-01 06:30:00+00:00   739.2100   741.4800   738.6400   741.4800   \n        2021-01-01 06:40:00+00:00   740.5600   741.4100   739.5300   740.8000   \n...                                      ...        ...        ...        ...   \n        2024-05-25 23:20:00+00:00  3746.2250  3751.6075  3746.2250  3751.3965   \n        2024-05-25 23:30:00+00:00  3749.5405  3749.5405  3745.9025  3745.9025   \n        2024-05-25 23:40:00+00:00  3747.4050  3747.4050  3747.4050  3747.4050   \n        2024-05-25 23:50:00+00:00  3749.7860  3751.0550  3749.7860  3749.9360   \n        2024-05-26 00:00:00+00:00  3747.2350  3748.7165  3746.6400  3746.6400   \n\n                                     volume  trade_count        vwap  \nsymbol  timestamp                                                     \nETH/USD 2021-01-01 06:00:00+00:00   4.96296         16.0  743.556855  \n        2021-01-01 06:10:00+00:00   8.21388         17.0  742.981265  \n        2021-01-01 06:20:00+00:00  30.99740         31.0  739.276616  \n        2021-01-01 06:30:00+00:00  77.14087         37.0  740.692151  \n        2021-01-01 06:40:00+00:00  24.31402         20.0  741.078805  \n...                                     ...          ...         ...  \n        2024-05-25 23:20:00+00:00   0.00000          0.0    0.000000  \n        2024-05-25 23:30:00+00:00   0.00000          0.0    0.000000  \n        2024-05-25 23:40:00+00:00   0.00000          0.0    0.000000  \n        2024-05-25 23:50:00+00:00   0.00000          0.0    0.000000  \n        2024-05-26 00:00:00+00:00   0.00000          0.0    0.000000  \n\n[178453 rows x 7 columns]",
      "text/html": "<div>\n<style scoped>\n    .dataframe tbody tr th:only-of-type {\n        vertical-align: middle;\n    }\n\n    .dataframe tbody tr th {\n        vertical-align: top;\n    }\n\n    .dataframe thead th {\n        text-align: right;\n    }\n</style>\n<table border=\"1\" class=\"dataframe\">\n  <thead>\n    <tr style=\"text-align: right;\">\n      <th></th>\n      <th></th>\n      <th>open</th>\n      <th>high</th>\n      <th>low</th>\n      <th>close</th>\n      <th>volume</th>\n      <th>trade_count</th>\n      <th>vwap</th>\n    </tr>\n    <tr>\n      <th>symbol</th>\n      <th>timestamp</th>\n      <th></th>\n      <th></th>\n      <th></th>\n      <th></th>\n      <th></th>\n      <th></th>\n      <th></th>\n    </tr>\n  </thead>\n  <tbody>\n    <tr>\n      <th rowspan=\"11\" valign=\"top\">ETH/USD</th>\n      <th>2021-01-01 06:00:00+00:00</th>\n      <td>742.1500</td>\n      <td>744.6100</td>\n      <td>742.1500</td>\n      <td>743.5000</td>\n      <td>4.96296</td>\n      <td>16.0</td>\n      <td>743.556855</td>\n    </tr>\n    <tr>\n      <th>2021-01-01 06:10:00+00:00</th>\n      <td>743.6900</td>\n      <td>743.9100</td>\n      <td>742.0000</td>\n      <td>742.0000</td>\n      <td>8.21388</td>\n      <td>17.0</td>\n      <td>742.981265</td>\n    </tr>\n    <tr>\n      <th>2021-01-01 06:20:00+00:00</th>\n      <td>742.2800</td>\n      <td>742.2800</td>\n      <td>738.1600</td>\n      <td>739.2500</td>\n      <td>30.99740</td>\n      <td>31.0</td>\n      <td>739.276616</td>\n    </tr>\n    <tr>\n      <th>2021-01-01 06:30:00+00:00</th>\n      <td>739.2100</td>\n      <td>741.4800</td>\n      <td>738.6400</td>\n      <td>741.4800</td>\n      <td>77.14087</td>\n      <td>37.0</td>\n      <td>740.692151</td>\n    </tr>\n    <tr>\n      <th>2021-01-01 06:40:00+00:00</th>\n      <td>740.5600</td>\n      <td>741.4100</td>\n      <td>739.5300</td>\n      <td>740.8000</td>\n      <td>24.31402</td>\n      <td>20.0</td>\n      <td>741.078805</td>\n    </tr>\n    <tr>\n      <th>...</th>\n      <td>...</td>\n      <td>...</td>\n      <td>...</td>\n      <td>...</td>\n      <td>...</td>\n      <td>...</td>\n      <td>...</td>\n    </tr>\n    <tr>\n      <th>2024-05-25 23:20:00+00:00</th>\n      <td>3746.2250</td>\n      <td>3751.6075</td>\n      <td>3746.2250</td>\n      <td>3751.3965</td>\n      <td>0.00000</td>\n      <td>0.0</td>\n      <td>0.000000</td>\n    </tr>\n    <tr>\n      <th>2024-05-25 23:30:00+00:00</th>\n      <td>3749.5405</td>\n      <td>3749.5405</td>\n      <td>3745.9025</td>\n      <td>3745.9025</td>\n      <td>0.00000</td>\n      <td>0.0</td>\n      <td>0.000000</td>\n    </tr>\n    <tr>\n      <th>2024-05-25 23:40:00+00:00</th>\n      <td>3747.4050</td>\n      <td>3747.4050</td>\n      <td>3747.4050</td>\n      <td>3747.4050</td>\n      <td>0.00000</td>\n      <td>0.0</td>\n      <td>0.000000</td>\n    </tr>\n    <tr>\n      <th>2024-05-25 23:50:00+00:00</th>\n      <td>3749.7860</td>\n      <td>3751.0550</td>\n      <td>3749.7860</td>\n      <td>3749.9360</td>\n      <td>0.00000</td>\n      <td>0.0</td>\n      <td>0.000000</td>\n    </tr>\n    <tr>\n      <th>2024-05-26 00:00:00+00:00</th>\n      <td>3747.2350</td>\n      <td>3748.7165</td>\n      <td>3746.6400</td>\n      <td>3746.6400</td>\n      <td>0.00000</td>\n      <td>0.0</td>\n      <td>0.000000</td>\n    </tr>\n  </tbody>\n</table>\n<p>178453 rows × 7 columns</p>\n</div>"
     },
     "execution_count": 33,
     "metadata": {},
     "output_type": "execute_result"
    }
   ],
   "source": [
    "# Creating request object\n",
    "request_params = CryptoBarsRequest(\n",
    "  symbol_or_symbols=[\"ETH/USD\"],\n",
    "  timeframe=timeframe_10min,\n",
    "  start=\"2018-05-25\",\n",
    "  end=\"2024-05-26\"\n",
    ")\n",
    "eth_bars = client.get_crypto_bars(request_params)\n",
    "\n",
    "# Convert to dataframe\n",
    "eth_bars.df"
   ],
   "metadata": {
    "collapsed": false,
    "ExecuteTime": {
     "end_time": "2024-05-26T14:27:23.127004808Z",
     "start_time": "2024-05-26T14:26:53.255179541Z"
    }
   },
   "id": "3cc56e9191250314"
  },
  {
   "cell_type": "code",
   "execution_count": 38,
   "outputs": [],
   "source": [
    "df_eth_bars = eth_bars.df\n",
    "\n",
    "df_eth_bars.to_csv(\"../src/data/eth_bars.csv\")"
   ],
   "metadata": {
    "collapsed": false,
    "ExecuteTime": {
     "end_time": "2024-05-26T14:33:06.680437682Z",
     "start_time": "2024-05-26T14:32:57.144915085Z"
    }
   },
   "id": "920d3d2a14b9160a"
  },
  {
   "cell_type": "code",
   "execution_count": null,
   "outputs": [],
   "source": [],
   "metadata": {
    "collapsed": false
   },
   "id": "633e70468f0ab5a5"
  }
 ],
 "metadata": {
  "kernelspec": {
   "display_name": "Python 3",
   "language": "python",
   "name": "python3"
  },
  "language_info": {
   "codemirror_mode": {
    "name": "ipython",
    "version": 2
   },
   "file_extension": ".py",
   "mimetype": "text/x-python",
   "name": "python",
   "nbconvert_exporter": "python",
   "pygments_lexer": "ipython2",
   "version": "2.7.6"
  }
 },
 "nbformat": 4,
 "nbformat_minor": 5
}
